{
 "cells": [
  {
   "cell_type": "markdown",
   "metadata": {},
   "source": [
    "# 생존분석\n",
    "- 중위수 생존시간은 많이구함. 하지만 평균 생존은 거의 계산하지 않음 왜냐하면 평균 생존시간을 계산하려면 매 사망시점을 알아야 하기 때문\n",
    "- 암환자는 일반적으로 5년 생존을 구하지만, 퇴직률은 1,2,3 년정도로 해서 조기퇴직률을 구하는게 보통임\n"
   ]
  }
 ],
 "metadata": {
  "language_info": {
   "name": "python"
  }
 },
 "nbformat": 4,
 "nbformat_minor": 2
}
