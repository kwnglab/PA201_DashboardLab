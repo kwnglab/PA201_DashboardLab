{
 "cells": [
  {
   "metadata": {
    "ExecuteTime": {
     "end_time": "2025-01-11T06:52:04.284970Z",
     "start_time": "2025-01-11T06:52:04.276491Z"
    }
   },
   "cell_type": "code",
   "source": [
    "import stata_setup\n",
    "stata_setup.config(\"C:/Program Files/Stata18/\", \"mp\")\n"
   ],
   "id": "dacaa25c6fbaeb85",
   "outputs": [],
   "execution_count": 13
  },
  {
   "metadata": {
    "ExecuteTime": {
     "end_time": "2025-01-11T06:53:20.179468Z",
     "start_time": "2025-01-11T06:53:17.861550Z"
    }
   },
   "cell_type": "code",
   "source": [
    "from src.pystata import stata\n",
    "stata.run('sysuse auto, clear')\n",
    "stata.run('''\n",
    "summarize\n",
    "reg mpg price i.foreign\n",
    "ereturn list\n",
    "''')"
   ],
   "id": "d48ca20db5a09cae",
   "outputs": [
    {
     "name": "stdout",
     "output_type": "stream",
     "text": [
      "(1978 automobile data)\n",
      "\n",
      ". \n",
      ". summarize\n",
      "\n",
      "    Variable |        Obs        Mean    Std. dev.       Min        Max\n",
      "-------------+---------------------------------------------------------\n",
      "        make |          0\n",
      "       price |         74    6165.257    2949.496       3291      15906\n",
      "         mpg |         74     21.2973    5.785503         12         41\n",
      "       rep78 |         69    3.405797    .9899323          1          5\n",
      "    headroom |         74    2.993243    .8459948        1.5          5\n",
      "-------------+---------------------------------------------------------\n",
      "       trunk |         74    13.75676    4.277404          5         23\n",
      "      weight |         74    3019.459    777.1936       1760       4840\n",
      "      length |         74    187.9324    22.26634        142        233\n",
      "        turn |         74    39.64865    4.399354         31         51\n",
      "displacement |         74    197.2973    91.83722         79        425\n",
      "-------------+---------------------------------------------------------\n",
      "  gear_ratio |         74    3.014865    .4562871       2.19       3.89\n",
      "     foreign |         74    .2972973    .4601885          0          1\n",
      "\n",
      ". reg mpg price i.foreign\n",
      "\n",
      "      Source |       SS           df       MS      Number of obs   =        74\n",
      "-------------+----------------------------------   F(2, 71)        =     23.01\n",
      "       Model |  960.866305         2  480.433152   Prob > F        =    0.0000\n",
      "    Residual |  1482.59315        71  20.8815937   R-squared       =    0.3932\n",
      "-------------+----------------------------------   Adj R-squared   =    0.3761\n",
      "       Total |  2443.45946        73  33.4720474   Root MSE        =    4.5696\n",
      "\n",
      "------------------------------------------------------------------------------\n",
      "         mpg | Coefficient  Std. err.      t    P>|t|     [95% conf. interval]\n",
      "-------------+----------------------------------------------------------------\n",
      "       price |   -.000959   .0001815    -5.28   0.000     -.001321    -.000597\n",
      "             |\n",
      "     foreign |\n",
      "    Foreign  |   5.245271   1.163592     4.51   0.000     2.925135    7.565407\n",
      "       _cons |   25.65058   1.271581    20.17   0.000     23.11512    28.18605\n",
      "------------------------------------------------------------------------------\n",
      "\n",
      ". ereturn list\n",
      "\n",
      "scalars:\n",
      "                  e(N) =  74\n",
      "              e(sum_w) =  74\n",
      "               e(df_m) =  2\n",
      "               e(df_r) =  71\n",
      "                  e(F) =  23.00749448574634\n",
      "                 e(r2) =  .3932401256962295\n",
      "               e(rmse) =  4.569638248831391\n",
      "                e(mss) =  960.8663049714787\n",
      "                e(rss) =  1482.593154487981\n",
      "               e(r2_a) =  .3761482982510528\n",
      "                 e(ll) =  -215.9083177127538\n",
      "               e(ll_0) =  -234.3943376482347\n",
      "               e(rank) =  3\n",
      "\n",
      "macros:\n",
      "            e(cmdline) : \"regress mpg price i.foreign\"\n",
      "              e(title) : \"Linear regression\"\n",
      "          e(marginsok) : \"XB default\"\n",
      "                e(vce) : \"ols\"\n",
      "             e(depvar) : \"mpg\"\n",
      "                e(cmd) : \"regress\"\n",
      "         e(properties) : \"b V\"\n",
      "            e(predict) : \"regres_p\"\n",
      "              e(model) : \"ols\"\n",
      "          e(estat_cmd) : \"regress_estat\"\n",
      "\n",
      "matrices:\n",
      "                  e(b) :  1 x 4\n",
      "                  e(V) :  4 x 4\n",
      "               e(beta) :  1 x 3\n",
      "\n",
      "functions:\n",
      "             e(sample)   \n",
      "\n",
      ". \n"
     ]
    }
   ],
   "execution_count": 14
  },
  {
   "metadata": {},
   "cell_type": "code",
   "outputs": [],
   "execution_count": null,
   "source": "",
   "id": "676ed1a8a63eee12"
  }
 ],
 "metadata": {
  "kernelspec": {
   "display_name": "Python 3",
   "language": "python",
   "name": "python3"
  },
  "language_info": {
   "codemirror_mode": {
    "name": "ipython",
    "version": 2
   },
   "file_extension": ".py",
   "mimetype": "text/x-python",
   "name": "python",
   "nbconvert_exporter": "python",
   "pygments_lexer": "ipython2",
   "version": "2.7.6"
  }
 },
 "nbformat": 4,
 "nbformat_minor": 5
}
