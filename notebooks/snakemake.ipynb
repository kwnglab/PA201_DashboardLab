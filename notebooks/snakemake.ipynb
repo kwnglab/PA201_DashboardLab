{
 "cells": [
  {
   "metadata": {
    "ExecuteTime": {
     "end_time": "2025-01-12T07:42:05.484995Z",
     "start_time": "2025-01-12T07:42:05.463422Z"
    }
   },
   "cell_type": "code",
   "source": "snakemake --lint",
   "id": "8d04ce1bba2a1ea9",
   "outputs": [
    {
     "ename": "NameError",
     "evalue": "name 'snakemake' is not defined",
     "output_type": "error",
     "traceback": [
      "\u001B[1;31m---------------------------------------------------------------------------\u001B[0m",
      "\u001B[1;31mNameError\u001B[0m                                 Traceback (most recent call last)",
      "Cell \u001B[1;32mIn[4], line 1\u001B[0m\n\u001B[1;32m----> 1\u001B[0m snakemake \u001B[38;5;241m-\u001B[39m\u001B[38;5;241m-\u001B[39mlint\n",
      "\u001B[1;31mNameError\u001B[0m: name 'snakemake' is not defined"
     ]
    }
   ],
   "execution_count": 4
  }
 ],
 "metadata": {
  "kernelspec": {
   "display_name": "Python 3",
   "language": "python",
   "name": "python3"
  },
  "language_info": {
   "codemirror_mode": {
    "name": "ipython",
    "version": 2
   },
   "file_extension": ".py",
   "mimetype": "text/x-python",
   "name": "python",
   "nbconvert_exporter": "python",
   "pygments_lexer": "ipython2",
   "version": "2.7.6"
  }
 },
 "nbformat": 4,
 "nbformat_minor": 5
}
