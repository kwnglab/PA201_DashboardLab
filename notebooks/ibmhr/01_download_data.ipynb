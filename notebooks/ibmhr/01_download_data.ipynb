{
 "cells": [
  {
   "cell_type": "code",
   "id": "67bd78a9b3fed9ab",
   "metadata": {
    "ExecuteTime": {
     "end_time": "2025-01-12T08:13:38.610816Z",
     "start_time": "2025-01-12T08:13:38.205243Z"
    }
   },
   "source": [
    "import os\n",
    "import pandas as pd\n",
    "\n",
    "def get_project_path():\n",
    "    current_file_path = os.getcwd()  # 현재 파일의 절대 경로\n",
    "    path = os.path.dirname(current_file_path)  # 현재 파일의 디렉토리 경로\n",
    "\n",
    "    # 최상위 폴더로 이동\n",
    "    while not os.path.isfile(os.path.join(path, 'README.md')):  # 최상위 폴더에 있는 파일 예: README.md\n",
    "        path = os.path.dirname(path)  # 한 단계 상위 디렉토리로 이동\n",
    "        if path == '/':\n",
    "            break  # 루트 디렉토리에 도달하면 중단\n",
    "\n",
    "    return path\n",
    "\n",
    "# 함수 호출\n",
    "project_path = get_project_path()\n",
    "print(\"Project Root:\", project_path)\n"
   ],
   "outputs": [
    {
     "name": "stdout",
     "output_type": "stream",
     "text": [
      "Project Root: C:\\Users\\rldnd\\DataspellProjects\\PA201_DashboardLab\n"
     ]
    }
   ],
   "execution_count": 1
  },
  {
   "metadata": {
    "collapsed": true,
    "ExecuteTime": {
     "end_time": "2025-01-12T08:13:42.798799Z",
     "start_time": "2025-01-12T08:13:41.725332Z"
    }
   },
   "cell_type": "code",
   "source": [
    "# 캐글허브에서 IBM HR 데이터 다운로드\n",
    "import kagglehub\n",
    "\n",
    "# Download latest version\n",
    "ibm_path = kagglehub.dataset_download(\"pavansubhasht/ibm-hr-analytics-attrition-dataset\")\n",
    "ibmhr = pd.read_csv(ibm_path + \"/WA_Fn-UseC_-HR-Employee-Attrition.csv\")\n",
    "ibmhr.to_csv(project_path + \"/data/raw/WA_Fn-UseC_-HR-Employee-Attrition.csv\")\n"
   ],
   "id": "initial_id",
   "outputs": [
    {
     "name": "stdout",
     "output_type": "stream",
     "text": [
      "['WA_Fn-UseC_-HR-Employee-Attrition.csv']\n"
     ]
    }
   ],
   "execution_count": 2
  }
 ],
 "metadata": {
  "kernelspec": {
   "display_name": "Python 3",
   "language": "python",
   "name": "python3"
  },
  "language_info": {
   "codemirror_mode": {
    "name": "ipython",
    "version": 2
   },
   "file_extension": ".py",
   "mimetype": "text/x-python",
   "name": "python",
   "nbconvert_exporter": "python",
   "pygments_lexer": "ipython2",
   "version": "2.7.6"
  }
 },
 "nbformat": 4,
 "nbformat_minor": 5
}
