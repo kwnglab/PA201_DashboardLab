{
 "cells": [
  {
   "metadata": {
    "ExecuteTime": {
     "end_time": "2025-01-12T06:52:11.322205Z",
     "start_time": "2025-01-12T06:52:11.151391Z"
    }
   },
   "cell_type": "code",
   "source": [
    "import pandas as pd\n",
    "import os\n",
    "\n",
    "# 프로젝트 경로 가져오기(현재경로의 상위상위폴더)\n",
    "project_path = \"C:/Users/rldnd/DataspellProjects/PA201_DashboardLab\"\n",
    "print(project_path)\n",
    "ibmhr_path = os.path.join(project_path, 'data', 'interim','ibmhr.xlsx')\n",
    "ibmhr = pd.read_excel(ibmhr_path)\n",
    "\n",
    "# 필요한 데이터만 추출\n",
    "ibmhr =ibmhr[['연령', '퇴직여부', '본부', '출퇴근거리', '교육', '전공', '사원번호',\n",
    "              '성별', '직무', '결혼여부', '월급', '이직횟수', 'OT여부', '성과평가',\n",
    "              '총경력년수', '근속년수', '부서']]\n",
    "# 한국 급여단위로 환산\n",
    "ibmhr = ibmhr.reset_index(drop=True) # 우선 인덱스를 초기화해야함\n",
    "ibmhr['d_월급'] = ibmhr['월급'] / 10\n",
    "\n",
    "\n",
    "## 임의의 데이터 생성\n",
    "from faker import Faker\n",
    "import random\n",
    "\n",
    "# 랜덤 시드 설정\n",
    "random.seed(240929)\n",
    "Faker.seed(240929)\n",
    "\n",
    "# Faker 객체 생성\n",
    "fake = Faker(locale = 'ko_KR')\n",
    "\n",
    "fake_list = {\n",
    "    '성명' : [fake.name() for _ in range(len(ibmhr))],\n",
    "    '퇴직일자' : [fake.date_between(start_date = '-10y', end_date = pd.to_datetime('2024-12-31')) for _ in range(len(ibmhr))]\n",
    "}\n",
    "fake_df = pd.DataFrame(fake_list)\n",
    "fake_df['퇴직일자'] = pd.to_datetime(fake_df['퇴직일자'])\n",
    "ibmhr = pd.merge(ibmhr, fake_df, left_index=True, right_index=True)\n",
    "\n",
    "# 근속일수에 +- 100일 정도의 랜덤 숫자를 더해주어 현실성 증가시켜주고,\n",
    "# 근속년수는 위 새로운 근속일수에서 다시 구해주는 형태로 변경\n",
    "ibmhr['d_근속일수'] = (ibmhr['근속년수'] * 365) + random.randint(-100, 100)\n",
    "ibmhr['d_근속년수'] = round(ibmhr['d_근속일수'] / 365.2425, 1)\n",
    "ibmhr['d_근속일수'] = pd.to_timedelta(ibmhr['d_근속일수'], unit='D')\n",
    "ibmhr['입사일자'] = ibmhr['퇴직일자'] - ibmhr['d_근속일수']\n",
    "\n",
    "# 데이터를 엑셀파일로 변환\n",
    "ibmhr.to_excel(project_path + \"/data/processed/ibmhr.xlsx\", index=False)\n",
    "\n",
    "\n"
   ],
   "id": "1f6cdee6281f1041",
   "outputs": [
    {
     "name": "stdout",
     "output_type": "stream",
     "text": [
      "C:/Users/rldnd/DataspellProjects/PA201_DashboardLab\n"
     ]
    }
   ],
   "execution_count": 59
  },
  {
   "metadata": {
    "ExecuteTime": {
     "end_time": "2025-01-12T06:52:28.475998Z",
     "start_time": "2025-01-12T06:52:28.012650Z"
    }
   },
   "cell_type": "code",
   "source": "",
   "id": "645d6868802db090",
   "outputs": [
    {
     "ename": "KeyError",
     "evalue": "'퇴직일자'",
     "output_type": "error",
     "traceback": [
      "\u001B[1;31m---------------------------------------------------------------------------\u001B[0m",
      "\u001B[1;31mKeyError\u001B[0m                                  Traceback (most recent call last)",
      "File \u001B[1;32m~\\miniconda3\\envs\\PA201\\Lib\\site-packages\\pandas\\core\\indexes\\base.py:3805\u001B[0m, in \u001B[0;36mIndex.get_loc\u001B[1;34m(self, key)\u001B[0m\n\u001B[0;32m   3804\u001B[0m \u001B[38;5;28;01mtry\u001B[39;00m:\n\u001B[1;32m-> 3805\u001B[0m     \u001B[38;5;28;01mreturn\u001B[39;00m \u001B[38;5;28mself\u001B[39m\u001B[38;5;241m.\u001B[39m_engine\u001B[38;5;241m.\u001B[39mget_loc(casted_key)\n\u001B[0;32m   3806\u001B[0m \u001B[38;5;28;01mexcept\u001B[39;00m \u001B[38;5;167;01mKeyError\u001B[39;00m \u001B[38;5;28;01mas\u001B[39;00m err:\n",
      "File \u001B[1;32mindex.pyx:167\u001B[0m, in \u001B[0;36mpandas._libs.index.IndexEngine.get_loc\u001B[1;34m()\u001B[0m\n",
      "File \u001B[1;32mindex.pyx:196\u001B[0m, in \u001B[0;36mpandas._libs.index.IndexEngine.get_loc\u001B[1;34m()\u001B[0m\n",
      "File \u001B[1;32mpandas\\\\_libs\\\\hashtable_class_helper.pxi:7081\u001B[0m, in \u001B[0;36mpandas._libs.hashtable.PyObjectHashTable.get_item\u001B[1;34m()\u001B[0m\n",
      "File \u001B[1;32mpandas\\\\_libs\\\\hashtable_class_helper.pxi:7089\u001B[0m, in \u001B[0;36mpandas._libs.hashtable.PyObjectHashTable.get_item\u001B[1;34m()\u001B[0m\n",
      "\u001B[1;31mKeyError\u001B[0m: '퇴직일자'",
      "\nThe above exception was the direct cause of the following exception:\n",
      "\u001B[1;31mKeyError\u001B[0m                                  Traceback (most recent call last)",
      "Cell \u001B[1;32mIn[61], line 25\u001B[0m\n\u001B[0;32m     23\u001B[0m ibmhr[\u001B[38;5;124m'\u001B[39m\u001B[38;5;124md_근속년수\u001B[39m\u001B[38;5;124m'\u001B[39m] \u001B[38;5;241m=\u001B[39m \u001B[38;5;28mround\u001B[39m(ibmhr[\u001B[38;5;124m'\u001B[39m\u001B[38;5;124md_근속일수\u001B[39m\u001B[38;5;124m'\u001B[39m] \u001B[38;5;241m/\u001B[39m \u001B[38;5;241m365.2425\u001B[39m, \u001B[38;5;241m1\u001B[39m)\n\u001B[0;32m     24\u001B[0m ibmhr[\u001B[38;5;124m'\u001B[39m\u001B[38;5;124md_근속일수\u001B[39m\u001B[38;5;124m'\u001B[39m] \u001B[38;5;241m=\u001B[39m pd\u001B[38;5;241m.\u001B[39mto_timedelta(ibmhr[\u001B[38;5;124m'\u001B[39m\u001B[38;5;124md_근속일수\u001B[39m\u001B[38;5;124m'\u001B[39m], unit\u001B[38;5;241m=\u001B[39m\u001B[38;5;124m'\u001B[39m\u001B[38;5;124mD\u001B[39m\u001B[38;5;124m'\u001B[39m)\n\u001B[1;32m---> 25\u001B[0m ibmhr[\u001B[38;5;124m'\u001B[39m\u001B[38;5;124m입사일자\u001B[39m\u001B[38;5;124m'\u001B[39m] \u001B[38;5;241m=\u001B[39m ibmhr[\u001B[38;5;124m'\u001B[39m\u001B[38;5;124m퇴직일자\u001B[39m\u001B[38;5;124m'\u001B[39m] \u001B[38;5;241m-\u001B[39m ibmhr[\u001B[38;5;124m'\u001B[39m\u001B[38;5;124md_근속일수\u001B[39m\u001B[38;5;124m'\u001B[39m]\n",
      "File \u001B[1;32m~\\miniconda3\\envs\\PA201\\Lib\\site-packages\\pandas\\core\\frame.py:4102\u001B[0m, in \u001B[0;36mDataFrame.__getitem__\u001B[1;34m(self, key)\u001B[0m\n\u001B[0;32m   4100\u001B[0m \u001B[38;5;28;01mif\u001B[39;00m \u001B[38;5;28mself\u001B[39m\u001B[38;5;241m.\u001B[39mcolumns\u001B[38;5;241m.\u001B[39mnlevels \u001B[38;5;241m>\u001B[39m \u001B[38;5;241m1\u001B[39m:\n\u001B[0;32m   4101\u001B[0m     \u001B[38;5;28;01mreturn\u001B[39;00m \u001B[38;5;28mself\u001B[39m\u001B[38;5;241m.\u001B[39m_getitem_multilevel(key)\n\u001B[1;32m-> 4102\u001B[0m indexer \u001B[38;5;241m=\u001B[39m \u001B[38;5;28mself\u001B[39m\u001B[38;5;241m.\u001B[39mcolumns\u001B[38;5;241m.\u001B[39mget_loc(key)\n\u001B[0;32m   4103\u001B[0m \u001B[38;5;28;01mif\u001B[39;00m is_integer(indexer):\n\u001B[0;32m   4104\u001B[0m     indexer \u001B[38;5;241m=\u001B[39m [indexer]\n",
      "File \u001B[1;32m~\\miniconda3\\envs\\PA201\\Lib\\site-packages\\pandas\\core\\indexes\\base.py:3812\u001B[0m, in \u001B[0;36mIndex.get_loc\u001B[1;34m(self, key)\u001B[0m\n\u001B[0;32m   3807\u001B[0m     \u001B[38;5;28;01mif\u001B[39;00m \u001B[38;5;28misinstance\u001B[39m(casted_key, \u001B[38;5;28mslice\u001B[39m) \u001B[38;5;129;01mor\u001B[39;00m (\n\u001B[0;32m   3808\u001B[0m         \u001B[38;5;28misinstance\u001B[39m(casted_key, abc\u001B[38;5;241m.\u001B[39mIterable)\n\u001B[0;32m   3809\u001B[0m         \u001B[38;5;129;01mand\u001B[39;00m \u001B[38;5;28many\u001B[39m(\u001B[38;5;28misinstance\u001B[39m(x, \u001B[38;5;28mslice\u001B[39m) \u001B[38;5;28;01mfor\u001B[39;00m x \u001B[38;5;129;01min\u001B[39;00m casted_key)\n\u001B[0;32m   3810\u001B[0m     ):\n\u001B[0;32m   3811\u001B[0m         \u001B[38;5;28;01mraise\u001B[39;00m InvalidIndexError(key)\n\u001B[1;32m-> 3812\u001B[0m     \u001B[38;5;28;01mraise\u001B[39;00m \u001B[38;5;167;01mKeyError\u001B[39;00m(key) \u001B[38;5;28;01mfrom\u001B[39;00m \u001B[38;5;21;01merr\u001B[39;00m\n\u001B[0;32m   3813\u001B[0m \u001B[38;5;28;01mexcept\u001B[39;00m \u001B[38;5;167;01mTypeError\u001B[39;00m:\n\u001B[0;32m   3814\u001B[0m     \u001B[38;5;66;03m# If we have a listlike key, _check_indexing_error will raise\u001B[39;00m\n\u001B[0;32m   3815\u001B[0m     \u001B[38;5;66;03m#  InvalidIndexError. Otherwise we fall through and re-raise\u001B[39;00m\n\u001B[0;32m   3816\u001B[0m     \u001B[38;5;66;03m#  the TypeError.\u001B[39;00m\n\u001B[0;32m   3817\u001B[0m     \u001B[38;5;28mself\u001B[39m\u001B[38;5;241m.\u001B[39m_check_indexing_error(key)\n",
      "\u001B[1;31mKeyError\u001B[0m: '퇴직일자'"
     ]
    }
   ],
   "execution_count": 61
  },
  {
   "metadata": {},
   "cell_type": "code",
   "outputs": [],
   "execution_count": null,
   "source": "",
   "id": "2fc6d11a31e695c6"
  }
 ],
 "metadata": {
  "kernelspec": {
   "display_name": "Python 3",
   "language": "python",
   "name": "python3"
  },
  "language_info": {
   "codemirror_mode": {
    "name": "ipython",
    "version": 2
   },
   "file_extension": ".py",
   "mimetype": "text/x-python",
   "name": "python",
   "nbconvert_exporter": "python",
   "pygments_lexer": "ipython2",
   "version": "2.7.6"
  }
 },
 "nbformat": 4,
 "nbformat_minor": 5
}
